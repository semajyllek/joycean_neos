{
  "cells": [
    {
      "cell_type": "code",
      "source": [
        "!pip install nltk"
      ],
      "metadata": {
        "id": "m-gNeK1cDSJ3",
        "outputId": "563c87ca-d5cd-4b99-8240-286e28a13019",
        "colab": {
          "base_uri": "https://localhost:8080/"
        }
      },
      "execution_count": 1,
      "outputs": [
        {
          "output_type": "stream",
          "name": "stdout",
          "text": [
            "Looking in indexes: https://pypi.org/simple, https://us-python.pkg.dev/colab-wheels/public/simple/\n",
            "Requirement already satisfied: nltk in /usr/local/lib/python3.10/dist-packages (3.8.1)\n",
            "Requirement already satisfied: click in /usr/local/lib/python3.10/dist-packages (from nltk) (8.1.3)\n",
            "Requirement already satisfied: joblib in /usr/local/lib/python3.10/dist-packages (from nltk) (1.2.0)\n",
            "Requirement already satisfied: regex>=2021.8.3 in /usr/local/lib/python3.10/dist-packages (from nltk) (2022.10.31)\n",
            "Requirement already satisfied: tqdm in /usr/local/lib/python3.10/dist-packages (from nltk) (4.65.0)\n"
          ]
        }
      ]
    },
    {
      "cell_type": "code",
      "execution_count": 2,
      "metadata": {
        "id": "yM5vUmekDQck"
      },
      "outputs": [],
      "source": [
        "from nltk.corpus import cess_esp, udhr\n",
        "from matplotlib import pyplot as plt\n",
        "from random import randrange, sample\n",
        "from collections import defaultdict\n",
        "from nltk import pos_tag\n",
        "import pandas as pd\n",
        "import numpy as np\n",
        "import string\n",
        "import nltk\n",
        "import re\n"
      ]
    },
    {
      "cell_type": "code",
      "source": [
        "nltk.download('punkt')\n",
        "nltk.download('wordnet')\n",
        "nltk.download('words')\n",
        "nltk.download('cess_esp')\n",
        "nltk.download('udhr')\n",
        "nltk.download('averaged_perceptron_tagger')"
      ],
      "metadata": {
        "id": "sFblkzxsGxEe",
        "outputId": "acb9e585-f7bc-4838-e81f-c6bc5e742061",
        "colab": {
          "base_uri": "https://localhost:8080/"
        }
      },
      "execution_count": 59,
      "outputs": [
        {
          "output_type": "stream",
          "name": "stderr",
          "text": [
            "[nltk_data] Downloading package punkt to /root/nltk_data...\n",
            "[nltk_data]   Package punkt is already up-to-date!\n",
            "[nltk_data] Downloading package wordnet to /root/nltk_data...\n",
            "[nltk_data]   Package wordnet is already up-to-date!\n",
            "[nltk_data] Downloading package words to /root/nltk_data...\n",
            "[nltk_data]   Package words is already up-to-date!\n",
            "[nltk_data] Downloading package cess_esp to /root/nltk_data...\n",
            "[nltk_data]   Package cess_esp is already up-to-date!\n",
            "[nltk_data] Downloading package udhr to /root/nltk_data...\n",
            "[nltk_data]   Package udhr is already up-to-date!\n",
            "[nltk_data] Downloading package averaged_perceptron_tagger to\n",
            "[nltk_data]     /root/nltk_data...\n",
            "[nltk_data]   Unzipping taggers/averaged_perceptron_tagger.zip.\n"
          ]
        },
        {
          "output_type": "execute_result",
          "data": {
            "text/plain": [
              "True"
            ]
          },
          "metadata": {},
          "execution_count": 59
        }
      ]
    },
    {
      "cell_type": "markdown",
      "metadata": {
        "id": "7jnVDdkGDQcm"
      },
      "source": [
        "# Ulysses Lexical Exploration\n",
        "\n",
        "> 'Ulysses', by James Joyce, is one of my favorite books. Part of it's claim to fame is the linguistic richness therein. Beyond an immense English vocabulary, Joyce also borrows words from Gaelic, French, Spanish, Italian, and Latin throughout. Even beyond this, Joyce is known as one of the most notorious neologists in literature (Shakespeare sire's us all). His portmanteus, onomatopoeia, and otherwise zany word creations are some of the best displays of his masterfully blended poetic/prosaic style. \n",
        "\n",
        "\n",
        "\n",
        "![image.png](attachment:image.png)\n",
        "\n",
        "\n",
        "\n",
        ">What follows is a brief exploration using some tools in python into the style and structure of Joyce's classic."
      ]
    },
    {
      "cell_type": "markdown",
      "metadata": {
        "id": "iltA3SiZDQcn"
      },
      "source": [
        "## Data Prep"
      ]
    },
    {
      "cell_type": "code",
      "source": [
        "import requests\n",
        "r = requests.get(r'https://www.gutenberg.org/files/4300/4300-0.txt')\n",
        "ulysses = [re.sub(r'[\\n\\r]', ' ', s) for s in nltk.sent_tokenize(r.text)]\n",
        "ulysses[:10]"
      ],
      "metadata": {
        "id": "Wa4lMv_UFeV8",
        "outputId": "b5292ff3-4857-4168-c78c-0a092d330f9b",
        "colab": {
          "base_uri": "https://localhost:8080/"
        }
      },
      "execution_count": 17,
      "outputs": [
        {
          "output_type": "execute_result",
          "data": {
            "text/plain": [
              "['ï»¿The Project Gutenberg eBook of Ulysses, by James Joyce    This eBook is for the use of anyone anywhere in the United States and  most other parts of the world at no cost and with almost no restrictions  whatsoever.',\n",
              " 'You may copy it, give it away or re-use it under the terms  of the Project Gutenberg License included with this eBook or online at  www.gutenberg.org.',\n",
              " 'If you are not located in the United States, you  will have to check the laws of the country where you are located before  using this eBook.',\n",
              " 'Title: Ulysses    Author: James Joyce    Release Date: December 27, 2001 [eBook #4300]  [Most recently updated: December 27, 2019]    Language: English    Character set encoding: UTF-8    Produced by: Col Choat and David Widger    *** START OF THE PROJECT GUTENBERG EBOOK ULYSSES ***    [Illustration]          Ulysses      by James Joyce      Contents     â\\x80\\x94 I â\\x80\\x94     [ 1 ]   [ 2 ]   [ 3 ]     â\\x80\\x94 II â\\x80\\x94     [ 4 ]   [ 5 ]   [ 6 ]   [ 7 ]   [ 8 ]   [ 9 ]   [ 10 ]   [ 11 ]   [ 12 ]   [ 13 ]   [ 14 ]   [ 15 ]     â\\x80\\x94 III â\\x80\\x94     [ 16 ]   [ 17 ]   [ 18 ]          â\\x80\\x94 I â\\x80\\x94      [ 1 ]    Stately, plump Buck Mulligan came from the stairhead, bearing a bowl of  lather on which a mirror and a razor lay crossed.',\n",
              " 'A yellow  dressinggown, ungirdled, was sustained gently behind him on the mild  morning air.',\n",
              " 'He held the bowl aloft and intoned:    â\\x80\\x94_Introibo ad altare Dei_.',\n",
              " 'Halted, he peered down the dark winding stairs and called out coarsely:    â\\x80\\x94Come up, Kinch!',\n",
              " 'Come up, you fearful jesuit!',\n",
              " 'Solemnly he came forward and mounted the round gunrest.',\n",
              " 'He faced about  and blessed gravely thrice the tower, the surrounding land and the  awaking mountains.']"
            ]
          },
          "metadata": {},
          "execution_count": 17
        }
      ]
    },
    {
      "cell_type": "markdown",
      "metadata": {
        "id": "a1pAdRfKDQco"
      },
      "source": [
        ">how many <b>sentences</b>, <b>words</b> are there in Ulysses?"
      ]
    },
    {
      "cell_type": "code",
      "execution_count": 18,
      "metadata": {
        "id": "mTjvqg3iDQco",
        "outputId": "608d1ed1-6d4e-4ee0-c7dc-ee62d676aa10",
        "colab": {
          "base_uri": "https://localhost:8080/"
        }
      },
      "outputs": [
        {
          "output_type": "stream",
          "name": "stdout",
          "text": [
            "There are 23744 sentences in Ulysses, and 269243 words.\n"
          ]
        }
      ],
      "source": [
        "print(f'There are {len(ulysses)} sentences in Ulysses, and {sum([len(s.split()) for s in ulysses])} words.')\n",
        "\n"
      ]
    },
    {
      "cell_type": "markdown",
      "metadata": {
        "id": "l1dNIzUDDQcp"
      },
      "source": [
        ">and <b>unique</b> words?"
      ]
    },
    {
      "cell_type": "code",
      "execution_count": 19,
      "metadata": {
        "id": "_gWSaUWaDQcp",
        "outputId": "459e38a0-e696-44ad-b7be-ea78e0529036",
        "colab": {
          "base_uri": "https://localhost:8080/"
        }
      },
      "outputs": [
        {
          "output_type": "stream",
          "name": "stdout",
          "text": [
            "There are 49621 unique words.\n"
          ]
        }
      ],
      "source": [
        "u_words = set([w for s in ulysses for w in s.split()])\n",
        "\n",
        "print(f'There are {len(u_words)} unique words.')"
      ]
    },
    {
      "cell_type": "markdown",
      "metadata": {
        "id": "D6eQIaxyDQcp"
      },
      "source": [
        ">what if we want to do some by-the-<b>chapter</b>, -<b>act</b> analysis? Let's keep the sentence and its <b>location</b> for every chapter head using a regular expression, then do the same for the acts."
      ]
    },
    {
      "cell_type": "code",
      "execution_count": 20,
      "metadata": {
        "id": "Dxp8Cy-hDQcp",
        "outputId": "0cfcb91b-8db7-42d7-c328-91d623d11541",
        "colab": {
          "base_uri": "https://localhost:8080/"
        }
      },
      "outputs": [
        {
          "output_type": "execute_result",
          "data": {
            "text/plain": [
              "[('Title: Ulysses    Author: James Joyce    Release Date: December 27, 2001 [eBook #4300]  [Most recently updated: December 27, 2019]    Language: English    Character set encoding: UTF-8    Produced by: Col Choat and David Widger    *** START OF THE PROJECT GUTENBERG EBOOK ULYSSES ***    [Illustration]          Ulysses      by James Joyce      Contents     â\\x80\\x94 I â\\x80\\x94     [ 1 ]   [ 2 ]   [ 3 ]     â\\x80\\x94 II â\\x80\\x94     [ 4 ]   [ 5 ]   [ 6 ]   [ 7 ]   [ 8 ]   [ 9 ]   [ 10 ]   [ 11 ]   [ 12 ]   [ 13 ]   [ 14 ]   [ 15 ]     â\\x80\\x94 III â\\x80\\x94     [ 16 ]   [ 17 ]   [ 18 ]          â\\x80\\x94 I â\\x80\\x94      [ 1 ]    Stately, plump Buck Mulligan came from the stairhead, bearing a bowl of  lather on which a mirror and a razor lay crossed.',\n",
              "  3),\n",
              " ('[ 2 ]      â\\x80\\x94You, Cochrane, what city sent for him?', 748)]"
            ]
          },
          "metadata": {},
          "execution_count": 20
        }
      ],
      "source": [
        "chapter_heads = [(s, i) for i, s in enumerate(ulysses) if re.match(r'.*\\[ [0-9]+ \\] .*', s)]\n",
        "chapter_heads[:2]"
      ]
    },
    {
      "cell_type": "code",
      "execution_count": 21,
      "metadata": {
        "id": "jWHVoDCCDQcp",
        "outputId": "3937e481-5c8a-4543-8901-7c2f5b3fbd35",
        "colab": {
          "base_uri": "https://localhost:8080/"
        }
      },
      "outputs": [
        {
          "output_type": "execute_result",
          "data": {
            "text/plain": [
              "[('Title: Ulysses    Author: James Joyce    Release Date: December 27, 2001 [eBook #4300]  [Most recently updated: December 27, 2019]    Language: English    Character set encoding: UTF-8    Produced by: Col Choat and David Widger    *** START OF THE PROJECT GUTENBERG EBOOK ULYSSES ***    [Illustration]          Ulysses      by James Joyce      Contents     â\\x80\\x94 I â\\x80\\x94     [ 1 ]   [ 2 ]   [ 3 ]     â\\x80\\x94 II â\\x80\\x94     [ 4 ]   [ 5 ]   [ 6 ]   [ 7 ]   [ 8 ]   [ 9 ]   [ 10 ]   [ 11 ]   [ 12 ]   [ 13 ]   [ 14 ]   [ 15 ]     â\\x80\\x94 III â\\x80\\x94     [ 16 ]   [ 17 ]   [ 18 ]          â\\x80\\x94 I â\\x80\\x94      [ 1 ]    Stately, plump Buck Mulligan came from the stairhead, bearing a bowl of  lather on which a mirror and a razor lay crossed.',\n",
              "  3),\n",
              " ('â\\x80\\x94 II â\\x80\\x94      [ 4 ]    Mr Leopold Bloom ate with relish the inner organs of beasts and fowls.',\n",
              "  1938),\n",
              " ('_Done._          [ 12 ]      I was just passing the time of day with old Troy of the D. M. P. at the  corner of Arbour hill there and be damned but a bloody sweep came along  and he near drove his gear into my eye.',\n",
              "  12993)]"
            ]
          },
          "metadata": {},
          "execution_count": 21
        }
      ],
      "source": [
        "acts_heads = [s for s in chapter_heads if re.match(r'.+\\[ [0-9]+ \\] .*', s[0])]\n",
        "acts_heads[:-2]"
      ]
    },
    {
      "cell_type": "code",
      "execution_count": 22,
      "metadata": {
        "id": "sLO-tyq9DQcq",
        "outputId": "bba8e81b-d4d2-41e3-b3a3-dbd32fe7c22b",
        "colab": {
          "base_uri": "https://localhost:8080/"
        }
      },
      "outputs": [
        {
          "output_type": "stream",
          "name": "stdout",
          "text": [
            "18\n",
            "5\n"
          ]
        }
      ],
      "source": [
        "print(len(chapter_heads))\n",
        "print(len(acts_heads))"
      ]
    },
    {
      "cell_type": "markdown",
      "metadata": {
        "id": "D6eY4NG6DQcq"
      },
      "source": [
        ">So we see there are <b>18 chapters</b> (17 + 1 for the first one without a heading), and <b>3 acts</b>. (the _Done_ is a bug in our program). We also see that crazy last chapter that's a single sentence, a single stream-of-consciousness. Maybe we should visualize how long the average sentence is per chapter? Let's write a little module that takes the sentences and does this."
      ]
    },
    {
      "cell_type": "code",
      "execution_count": 23,
      "metadata": {
        "id": "HVyZwrm9DQcq",
        "outputId": "86180913-b8c2-4119-b7d1-a04d8e98ed51",
        "colab": {
          "base_uri": "https://localhost:8080/",
          "height": 449
        }
      },
      "outputs": [
        {
          "output_type": "display_data",
          "data": {
            "text/plain": [
              "<Figure size 640x480 with 1 Axes>"
            ],
            "image/png": "[encoded data removed]"
          },
          "metadata": {}
        }
      ],
      "source": [
        "#get the lengths of the sentences in the ranges of the chapter heading locations\n",
        "#add their average to a list that gets plotted\n",
        "def plot_uly_sen_lengths(ulysses, chap_or_act):\n",
        "    \n",
        "    chapter_heads = [(s, i) for i, s in enumerate(ulysses) if re.match(r'.*\\[ [0-9]+ \\] .*', s)]\n",
        "    acts_heads = [s for s in chapter_heads if re.match(r'.+\\[ [0-9]+ \\] .*', s[0])]\n",
        "    chap_locs = [s[1] for s in chapter_heads]\n",
        "    acts_locs = [s[1] for s in acts_heads]\n",
        "    \n",
        "    \n",
        "    locs = acts_locs if chap_or_act=='act' else chap_locs\n",
        "    np.random.seed(354)\n",
        "    colors = np.random.rand(len(locs))\n",
        "\n",
        "    \n",
        "    sen_aves = []\n",
        "    i = 0\n",
        "    \n",
        "    for loc in locs:\n",
        "        sen_lens = []\n",
        "        for j in range(i, loc):\n",
        "            sen_lens.append(len(ulysses[j].split()))\n",
        "        sen_aves.append(sum(sen_lens) / len(sen_lens))\n",
        "        i = loc\n",
        "        \n",
        "    #plot the sentences using pyplot.scatter\n",
        "    plt.scatter(np.arange(1, len(locs) + 1), sen_aves, c=colors)\n",
        "    plt.xlabel(\"Chapter Number\")\n",
        "    plt.ylabel(\"Average Sentence Length\")\n",
        "    plt.show()\n",
        "    \n",
        "    return chap_locs, acts_locs\n",
        "\n",
        "chap_locs, acts_locs = plot_uly_sen_lengths(ulysses, 'chap');"
      ]
    },
    {
      "cell_type": "markdown",
      "metadata": {
        "id": "rojsFm9hDQcq"
      },
      "source": [
        ">Let's take a look at why chapter 11: <b>\"Sirens\"</b>, might have a lower average sentence length:"
      ]
    },
    {
      "cell_type": "code",
      "execution_count": 24,
      "metadata": {
        "id": "es8iJhHNDQcq",
        "outputId": "3be33f6f-adf3-4709-ec2e-b88ed1b68158",
        "colab": {
          "base_uri": "https://localhost:8080/"
        }
      },
      "outputs": [
        {
          "output_type": "execute_result",
          "data": {
            "text/plain": [
              "['Gara.',\n",
              " 'Klook Klook Klook.',\n",
              " 'Then  comes good uncle Leo.',\n",
              " 'He puts his hand under black Liz and takes her  fresh egg.',\n",
              " 'Ga ga ga ga Gara.',\n",
              " 'Klook Klook Klook.',\n",
              " 'â\\x80\\x94Anyhow, says Joe, Field and Nannetti are going over tonight to London  to ask about it on the floor of the house of commons.',\n",
              " 'â\\x80\\x94Are you sure, says Bloom, the councillor is going?',\n",
              " 'I wanted to see  him, as it happens.',\n",
              " 'â\\x80\\x94Well, heâ\\x80\\x99s going off by the mailboat, says Joe, tonight.',\n",
              " 'â\\x80\\x94Thatâ\\x80\\x99s too bad, says Bloom.',\n",
              " 'I wanted particularly.',\n",
              " 'Perhaps only Mr  Field is going.',\n",
              " 'I couldnâ\\x80\\x99t phone.',\n",
              " 'No.',\n",
              " 'Youâ\\x80\\x99re sure?',\n",
              " 'â\\x80\\x94Nannanâ\\x80\\x99s going too, says Joe.',\n",
              " 'The league told him to ask a question  tomorrow about the commissioner of police forbidding Irish games in the  park.',\n",
              " 'What do you think of that, citizen?',\n",
              " '_The Sluagh na h-Eireann_.',\n",
              " 'Mr Cowe Conacre (Multifarnham.',\n",
              " 'Nat.',\n",
              " '): Arising out of the question of my  honourable friend, the member for Shillelagh, may I ask the right  honourable gentleman whether the government has issued orders that  these animals shall be slaughtered though no medical evidence is  forthcoming as to their pathological condition?',\n",
              " 'Mr Allfours (Tamoshant.',\n",
              " 'Con.',\n",
              " '): Honourable members are already in  possession of the evidence produced before a committee of the whole  house.',\n",
              " 'I feel I cannot usefully add anything to that.']"
            ]
          },
          "metadata": {},
          "execution_count": 24
        }
      ],
      "source": [
        "ulysses[chap_locs[11] + 500 :chap_locs[11] + 527]"
      ]
    },
    {
      "cell_type": "markdown",
      "metadata": {
        "id": "qZt8QxW3DQcr"
      },
      "source": [
        ">Aha, it's <b>dialogue</b>! \n",
        "\n",
        "## Analysis\n",
        "\n",
        "Now let's dig deeper into what kinds of words Mr. Joyce uses in this novel. Specficially what we want to end up with is a list of all the neologisms created. Neologisms are literally \"new words\" - words that are not found in a generally accepted dictionary of a language, and are not proper nouns. We'll get the dictionary and list of proper nouns from the Unix supplied lists in '/usr/share/dict'.  \n",
        "\n",
        "Let's begin by making a stricter definition for our vocabulary, one that combines different forms of a word into a lemma. That way we can account for all the variations of a word without losing too much of the creativity of the author. Although, to be sure, some neologisms are purely suffix-based (like making a new adverb from an adjective (i.e. \"cheekily\"), or a new adjective from a noun (i.e. \"cheeky\"), and those will be lost here, as we'll only keep the portmanteued words. Hopefuly we don't lose too many of the most creative words (completely subjective), but our dictionary simply does not account for all the legal variations either, so we're making a choice to sacrifice those when we lemmatize, in order to not have to add every possible legal morphological transformation to our dictionary for every possble word. \n",
        "\n",
        "Additionally, it's clear that the set of every possible proper noun is infinite, and our list can only be a subset of this, therefore we will try and identify these tokens by the common convention of having a capitalized word initial character, and not belonging to the set of proper nouns given by our Unix list. Observe that the hole in our logic is if a word occurs at the begining of the sentence, so we make an exception for those, admitting that proper nouns not included in our Unix list also appearing sentence-initially will be erroneously admitted into our set of neologisms.\n"
      ]
    },
    {
      "cell_type": "code",
      "execution_count": 27,
      "metadata": {
        "id": "re8s99_FDQcr"
      },
      "outputs": [],
      "source": [
        "def get_u_words(ulysses):\n",
        "    \n",
        "    lemma = nltk.wordnet.WordNetLemmatizer()\n",
        "    u_words = []\n",
        "    \n",
        "    for l in ulysses:\n",
        "        for i, s in enumerate(l.split()):\n",
        "            s = lemma.lemmatize(s.translate(str.maketrans('', '', string.punctuation)))  \n",
        "            if s.isalpha() and (s.islower() or i == 0):\n",
        "                u_words.append(s.lower())\n",
        "                \n",
        "    return set(u_words)\n",
        "            \n",
        "u_words = get_u_words(ulysses)"
      ]
    },
    {
      "cell_type": "code",
      "execution_count": null,
      "metadata": {
        "id": "nWdofDl4DQcr",
        "outputId": "037a303a-75f0-4788-a14f-b01deea981ae"
      },
      "outputs": [
        {
          "name": "stdout",
          "output_type": "stream",
          "text": [
            "Now there are 23273 u_words\n"
          ]
        },
        {
          "data": {
            "text/plain": [
              "['mastery',\n",
              " 'minutia',\n",
              " 'chilly',\n",
              " 'stooder',\n",
              " 'gulfer',\n",
              " 'variorum',\n",
              " 'naturelles',\n",
              " 'lick',\n",
              " 'wounded',\n",
              " 'rouging',\n",
              " 'aphrodis',\n",
              " 'noble',\n",
              " 'burialplace',\n",
              " 'living',\n",
              " 'grindstone',\n",
              " 'prophet',\n",
              " 'proudest',\n",
              " 'scooping',\n",
              " 'insinuated',\n",
              " 'ferment',\n",
              " 'smelling',\n",
              " 'weight',\n",
              " 'turpentine',\n",
              " 'sanatorium',\n",
              " 'meatfaced']"
            ]
          },
          "execution_count": 11,
          "metadata": {},
          "output_type": "execute_result"
        }
      ],
      "source": [
        "print(f\"Now there are {len(u_words)} u_words\")\n",
        "list(u_words)[:25]"
      ]
    },
    {
      "cell_type": "markdown",
      "metadata": {
        "id": "G-FLD2NXDQcr"
      },
      "source": [
        ">Looks okay, and maybe we can see many possible neologisms already in this sampling. Let's remove the words also found in the list of English words. \n",
        "\n",
        ">We want to be thoughtful about this and recognize (after testing our data) that every possible morphological derivation for every word does not exist in the list of English words we have, so we'll look back depending on the length of the word and see if a **root** exists in our list somewhere. \n",
        "\n",
        ">Lastly, we'll individually consider the cases of words whose roots end in 'y' or 'e', whose suffixed derivational form converts these vowels to **'i'** or **'a'**, as in 'melody' -> 'melodious' or 'recede' -> 'receding', and those with letters **'s'** which could be converted to **'z'** (e.g. antagonise -> antagonize), or those with **'ou'** which could be **'o'** (e.g. favourite -> favorite). "
      ]
    },
    {
      "cell_type": "code",
      "execution_count": 39,
      "metadata": {
        "id": "3Sai9fB6DQcr"
      },
      "outputs": [],
      "source": [
        "from nltk.corpus import words\n",
        "english_words = set([w.strip('\\n') for w in words.words()])\n",
        "proper_eng_nouns = set([w.strip('\\n').lower() for w in words.words()])\n",
        "\n",
        "english_words |=  proper_eng_nouns"
      ]
    },
    {
      "cell_type": "code",
      "source": [
        "len(english_words)"
      ],
      "metadata": {
        "id": "O0aRWLLSIlgJ",
        "outputId": "f3098547-6345-4036-f29c-124fde7fbb15",
        "colab": {
          "base_uri": "https://localhost:8080/"
        }
      },
      "execution_count": 40,
      "outputs": [
        {
          "output_type": "execute_result",
          "data": {
            "text/plain": [
              "259576"
            ]
          },
          "metadata": {},
          "execution_count": 40
        }
      ]
    },
    {
      "cell_type": "code",
      "execution_count": 41,
      "metadata": {
        "id": "_sOcVvQwDQcs"
      },
      "outputs": [],
      "source": [
        "#check for 's', 'c', or 'ou' strings and whether they can be replaced with alternatives for inclusion\n",
        "def check_souc(word):\n",
        "    \n",
        "    FOUND = False\n",
        "    \n",
        "    for i in range(len(word)):\n",
        "        \n",
        "        #check for alternate 's' -> 'z' spellings (e.g. agonise -> agonize)\n",
        "        if word[i] == 's':\n",
        "            if word[:i] + 'z' + word[i+1:] in english_words:\n",
        "                FOUND = True\n",
        "\n",
        "        #check for alternate 'c' -> 's' spellings (e.g. pretence -> pretense)\n",
        "        if word[i] == 'c':\n",
        "            if word[:i] + 's' + word[i+1:] in english_words:\n",
        "                FOUND = True\n",
        "\n",
        "        #check if replacing 'ou with 'o' is in list (e.g. colour -> color)\n",
        "        if word[i-1:i+1] == 'ou' and (word[:i] + word[i+1:]) in english_words:\n",
        "            FOUND = True\n",
        "    \n",
        "    return FOUND\n",
        "\n",
        "\n",
        "#remove all the legitimate english_words from neologisms which had unseen derivations by converting to root form\n",
        "def clip_eng_words(u_words, english_words):\n",
        "    \n",
        "    morphed_ends = ['i', 'a']\n",
        "    try_ends = ['e', 'y']\n",
        "    neo_words = []\n",
        "    \n",
        "    u_words -= english_words\n",
        "   \n",
        "    #one more filter for unseen root + common suffix lengths on seen roots\n",
        "    for u_word in list(u_words):\n",
        "    \n",
        "        u_len = len(u_word)\n",
        "        if u_len > 3:\n",
        "            max_suf_len = 4 if u_len > 7 else (u_len - 3)\n",
        "            FOUND = False\n",
        "\n",
        "            for i in range(u_len): \n",
        "                \n",
        "                if i >= u_len - max_suf_len:\n",
        "                    for m_end in morphed_ends:\n",
        "                        if u_word[i] == m_end:\n",
        "                            for t_ends in try_ends:\n",
        "\n",
        "                                #check if substring is in eng_words\n",
        "                                if u_word[:i] + t_ends in english_words or check_souc(u_word[:i] + t_ends):\n",
        "                                    FOUND = True\n",
        "\n",
        "                                #check if substring without naive 2-letter prefix is in eng_words\n",
        "                                if i > 2:\n",
        "                                    if u_word[2:i] + t_ends in english_words or check_souc(u_word[2:i] + t_ends):\n",
        "                                        FOUND = True\n",
        "\n",
        "                    if not FOUND:\n",
        "                        if u_word[:i] in english_words: \n",
        "                            FOUND = True\n",
        "\n",
        "                if not FOUND:\n",
        "                    FOUND = check_souc(u_word)\n",
        "\n",
        "            if not FOUND:\n",
        "                neo_words.append(u_word)\n",
        "    \n",
        "    return neo_words\n",
        "\n",
        "\n",
        "neologisms = set(clip_eng_words(u_words, english_words))"
      ]
    },
    {
      "cell_type": "markdown",
      "metadata": {
        "id": "bfz6LGxUDQcs"
      },
      "source": [
        ">After clipping..."
      ]
    },
    {
      "cell_type": "code",
      "execution_count": 42,
      "metadata": {
        "id": "v9rz55ncDQcs",
        "outputId": "10ff5a55-4918-4eed-b11a-bde6c8eac995",
        "colab": {
          "base_uri": "https://localhost:8080/"
        }
      },
      "outputs": [
        {
          "output_type": "execute_result",
          "data": {
            "text/plain": [
              "['lychgate',\n",
              " 'fullnosed',\n",
              " 'bloodpoisoning',\n",
              " 'townclerk',\n",
              " 'ravenhaired',\n",
              " 'neralhistoryspecialprofessordoctor',\n",
              " 'deathflower',\n",
              " 'imbecillic',\n",
              " 'corpusnomine',\n",
              " 'daylabourers',\n",
              " 'hray',\n",
              " 'medher',\n",
              " 'faithfultheman',\n",
              " 'backtothelander',\n",
              " 'twentyseven',\n",
              " 'bulllocks',\n",
              " 'hayjuice',\n",
              " 'notepaper',\n",
              " 'bumboosers',\n",
              " 'handglass',\n",
              " 'dreck',\n",
              " 'semiparalysed',\n",
              " 'sanguineflowered',\n",
              " 'coalscuttle',\n",
              " 'obstropolos',\n",
              " 'practise',\n",
              " 'whatyoucallit',\n",
              " 'halfcrown',\n",
              " 'quel',\n",
              " 'wristwatches',\n",
              " 'loudlatinlaughing',\n",
              " 'deluthering',\n",
              " 'watercourse',\n",
              " 'sunbright',\n",
              " 'ticketwriters',\n",
              " 'waterspray',\n",
              " 'longcherished',\n",
              " 'enclos',\n",
              " 'blackguardlooking',\n",
              " 'sloothering',\n",
              " 'baaaahabaaa',\n",
              " 'ovoblastic',\n",
              " 'farreaching',\n",
              " 'selfwilled',\n",
              " 'zoefanny',\n",
              " 'streetorgan',\n",
              " 'shebronze',\n",
              " 'deepvoiced',\n",
              " 'hairylegged',\n",
              " 'fourworded']"
            ]
          },
          "metadata": {},
          "execution_count": 42
        }
      ],
      "source": [
        "list(neologisms)[:50]"
      ]
    },
    {
      "cell_type": "code",
      "execution_count": 43,
      "metadata": {
        "id": "NxuH3L1CDQcs",
        "outputId": "ea7291e3-7c81-4340-d083-fc0d7a0b927e",
        "colab": {
          "base_uri": "https://localhost:8080/"
        }
      },
      "outputs": [
        {
          "output_type": "execute_result",
          "data": {
            "text/plain": [
              "2200"
            ]
          },
          "metadata": {},
          "execution_count": 43
        }
      ],
      "source": [
        "len(neologisms)"
      ]
    },
    {
      "cell_type": "markdown",
      "metadata": {
        "id": "9RNyPX00DQcs"
      },
      "source": [
        ">Now let's do one more little preprocessing step and remove the **foreign** words"
      ]
    },
    {
      "cell_type": "code",
      "execution_count": 46,
      "metadata": {
        "id": "LM0XyhQiDQcs",
        "outputId": "5a0a64ed-28b4-4154-a526-179f378aa3fe",
        "colab": {
          "base_uri": "https://localhost:8080/"
        }
      },
      "outputs": [
        {
          "output_type": "execute_result",
          "data": {
            "text/plain": [
              "{'coche', 'como', 'culo', 'entre', 'hombre', 'noches', 'seul', 'venga'}"
            ]
          },
          "metadata": {},
          "execution_count": 46
        }
      ],
      "source": [
        "neologisms & set([w.lower() for w in cess_esp.words()])\n"
      ]
    },
    {
      "cell_type": "code",
      "execution_count": 54,
      "metadata": {
        "id": "xrAGLkHZDQcs",
        "outputId": "cea23f8d-9af2-4690-ccb3-aa0c6a1f34f0",
        "colab": {
          "base_uri": "https://localhost:8080/"
        }
      },
      "outputs": [
        {
          "output_type": "execute_result",
          "data": {
            "text/plain": [
              "{'atque', 'cuius', 'omnes', 'usus'}"
            ]
          },
          "metadata": {},
          "execution_count": 54
        }
      ],
      "source": [
        "neologisms & set([w.lower() for w in udhr.words('Latin_Latina-Latin1')])"
      ]
    },
    {
      "cell_type": "code",
      "execution_count": 55,
      "metadata": {
        "id": "ECVKb6-ADQct"
      },
      "outputs": [],
      "source": [
        "neologisms -= set([w.lower() for w in udhr.words('French_Francais-Latin1')])\n",
        "neologisms -= set([w.lower() for w in udhr.words('Latin_Latina-Latin1')])\n",
        "neologisms -= set([w.lower() for w in udhr.words('Italian_Italiano-Latin1')])\n",
        "neologisms -= set([w.lower() for w in cess_esp.words()])\n"
      ]
    },
    {
      "cell_type": "code",
      "execution_count": 56,
      "metadata": {
        "id": "lHB9-6H0DQct",
        "outputId": "c5fc0c92-93e3-4849-9826-543ec19ad969",
        "colab": {
          "base_uri": "https://localhost:8080/"
        }
      },
      "outputs": [
        {
          "output_type": "execute_result",
          "data": {
            "text/plain": [
              "2185"
            ]
          },
          "metadata": {},
          "execution_count": 56
        }
      ],
      "source": [
        "len(neologisms)"
      ]
    },
    {
      "cell_type": "markdown",
      "metadata": {
        "id": "6VHod-AqDQct"
      },
      "source": [
        ">Great! We chopped it down to about **2300 words!** Now we have one more bit of analytic work to do before we get to the (more) fun stuff. We need to find out what these neologisms are made of. We'll start by searching our list for any parts of words that occur in the english_list, and then all we want to keep is the POS tag we get from **nltk.pos_tag()**, so that we can use it to make our own neologisms later. We can store this tag sequence as keys in a dictionary with counts for giving us an idea of frequency of each POS sequence. This will be much more straighforward than the stemming/lemmatization task. \n",
        "\n",
        ">The implementation below is a sort of greedy method which starts at the left of a neologism and simply gets the **biggest english word** it can find, appends the POS tag. Then it starts at the next index to the right, and if it gets to the end it either returns the sequence if the string combination it represented is as long as the neologism, or it returns **None**. \n",
        "\n",
        ">Included is a couple quick functions to duplicate some of what we had to do for the original neologism suffix clipping, because of course these words weren't accepted with clipping, even if we find their parts may be in this search.  \n"
      ]
    },
    {
      "cell_type": "code",
      "execution_count": 57,
      "metadata": {
        "id": "xGj0sdtwDQct"
      },
      "outputs": [],
      "source": [
        "#utility functions for cleaning the code of get_neo_tag_structs\n",
        "def s_end(neo, i, start_idx, eng_words):\n",
        "    return ((i == len(neo)) and (neo[i - 1] == 's')) and (neo[start_idx:i - 1] in eng_words) \n",
        "def ed_end(neo, i, start_idx, eng_words):\n",
        "    return (i == len(neo)) and (neo[i - 2:] == 'ed') and (neo[start_idx:i - 2] in eng_words)\n",
        "\n",
        "def neo_ends(neo, i, start_idx, eng_words):\n",
        "    return s_end(neo, i, start_idx, eng_words) or ed_end(neo, i, start_idx, eng_words)\n",
        "\n",
        "def get_neo_tags(neo, eng_words):\n",
        "    \n",
        "    tag_seq = []\n",
        "    start_idx = 0\n",
        "    ADDED = True\n",
        "    neo_string = \"\"\n",
        "    \n",
        "    while start_idx < len(neo) and ADDED:\n",
        "        ADDED = False\n",
        "        \n",
        "        for i in range(len(neo), start_idx, -1):\n",
        "            if i - start_idx > 1:\n",
        "                if neo[start_idx:i] in eng_words or neo_ends(neo, i, start_idx, eng_words):\n",
        "                    neo_string += neo[start_idx:i]\n",
        "                    tag_seq += [tag for (word, tag) in nltk.pos_tag(neo[start_idx:i].split())]\n",
        "                    start_idx += i\n",
        "                    ADDED = True\n",
        "                    break\n",
        "\n",
        "        if not ADDED:\n",
        "            start_idx += len(neo) - start_idx \n",
        "        \n",
        "    return tuple(tag_seq) if len(neo_string) == len(neo) else ('None',)\n",
        "            \n",
        "            \n",
        "            \n",
        "\n",
        "\n",
        "#helper function for getting 2 similar dictionaries: \n",
        "#neo:tag_sequence (neo_tags) for access to the actual distribution of tags for sampling in neologism generation,\n",
        "#tag_seq:count (neo_tags) for plotting in next method \n",
        "def get_all_neo_tags(neologisms, english_words):\n",
        "    \n",
        "    neo_tag_counts = defaultdict(int)\n",
        "    neo_tags = defaultdict(list)\n",
        "    \n",
        "    for neo in neologisms:\n",
        "        t = get_neo_tags(neo, english_words)\n",
        "        neo_tag_counts[t] += 1\n",
        "        neo_tags[neo] = t\n",
        "        \n",
        "    return neo_tags, neo_tag_counts\n",
        "\n",
        "\n",
        "            \n"
      ]
    },
    {
      "cell_type": "code",
      "execution_count": 60,
      "metadata": {
        "id": "IqIoAI_EDQct"
      },
      "outputs": [],
      "source": [
        "neo_tags, neo_tag_counts = get_all_neo_tags(neologisms, english_words)"
      ]
    },
    {
      "cell_type": "code",
      "execution_count": 61,
      "metadata": {
        "id": "915RRIiRDQct",
        "outputId": "d819d04f-12ac-4b85-a60f-50cf91505b36",
        "colab": {
          "base_uri": "https://localhost:8080/"
        }
      },
      "outputs": [
        {
          "output_type": "stream",
          "name": "stdout",
          "text": [
            "NEO: lychgate, tags: ('None',)\n",
            "NEO: fullnosed, tags: ('JJ', 'VBN')\n",
            "NEO: bloodpoisoning, tags: ('NN', 'VBG')\n",
            "NEO: townclerk, tags: ('NN', 'NN')\n",
            "NEO: ravenhaired, tags: ('NN', 'VBN')\n",
            "NEO: neralhistoryspecialprofessordoctor, tags: ('None',)\n",
            "NEO: deathflower, tags: ('NN', 'NN')\n",
            "NEO: imbecillic, tags: ('None',)\n",
            "NEO: corpusnomine, tags: ('None',)\n",
            "NEO: daylabourers, tags: ('None',)\n",
            "NEO: hray, tags: ('None',)\n",
            "NEO: medher, tags: ('None',)\n",
            "NEO: faithfultheman, tags: ('None',)\n",
            "NEO: backtothelander, tags: ('None',)\n",
            "NEO: twentyseven, tags: ('NN', 'CD')\n",
            "NEO: bulllocks, tags: ('NN', 'NNS')\n",
            "NEO: hayjuice, tags: ('NN', 'NN')\n",
            "NEO: notepaper, tags: ('NN', 'NN')\n",
            "NEO: bumboosers, tags: ('None',)\n",
            "NEO: handglass, tags: ('NN', 'NN')\n",
            "NEO: dreck, tags: ('None',)\n",
            "NEO: semiparalysed, tags: ('None',)\n",
            "NEO: sanguineflowered, tags: ('NN', 'VBN')\n",
            "NEO: coalscuttle, tags: ('NN', 'NN')\n",
            "NEO: obstropolos, tags: ('None',)\n",
            "NEO: practise, tags: ('None',)\n",
            "NEO: whatyoucallit, tags: ('None',)\n",
            "NEO: halfcrown, tags: ('NN', 'NN')\n",
            "NEO: quel, tags: ('None',)\n",
            "NEO: wristwatches, tags: ('None',)\n",
            "NEO: loudlatinlaughing, tags: ('None',)\n",
            "NEO: deluthering, tags: ('None',)\n",
            "NEO: watercourse, tags: ('NN', 'NN')\n",
            "NEO: sunbright, tags: ('NN', 'NN')\n",
            "NEO: ticketwriters, tags: ('NN', 'NNS')\n",
            "NEO: waterspray, tags: ('NN', 'NN')\n",
            "NEO: longcherished, tags: ('RB', 'NNS')\n",
            "NEO: enclos, tags: ('None',)\n",
            "NEO: blackguardlooking, tags: ('NN', 'VBG')\n",
            "NEO: sloothering, tags: ('None',)\n",
            "NEO: baaaahabaaa, tags: ('None',)\n",
            "NEO: ovoblastic, tags: ('None',)\n",
            "NEO: farreaching, tags: ('RB', 'VBG')\n",
            "NEO: selfwilled, tags: ('NN', 'VBD')\n",
            "NEO: zoefanny, tags: ('None',)\n",
            "NEO: streetorgan, tags: ('NN', 'NN')\n",
            "NEO: shebronze, tags: ('PRP', 'NN')\n",
            "NEO: deepvoiced, tags: ('NN', 'NNS')\n",
            "NEO: hairylegged, tags: ('NN', 'VBN')\n",
            "NEO: fourworded, tags: ('CD', 'VBD')\n"
          ]
        }
      ],
      "source": [
        "for i, (neo, tag_seq) in enumerate(neo_tags.items()):\n",
        "    if i < 50:\n",
        "        print(f'NEO: {neo}, tags: {tag_seq}')"
      ]
    },
    {
      "cell_type": "code",
      "execution_count": 62,
      "metadata": {
        "id": "WWkeGb44DQct",
        "outputId": "1d1f7a07-f16c-430d-b904-158833ce6c4b",
        "colab": {
          "base_uri": "https://localhost:8080/",
          "height": 460
        }
      },
      "outputs": [
        {
          "output_type": "display_data",
          "data": {
            "text/plain": [
              "<Figure size 640x480 with 1 Axes>"
            ],
            "image/png": "[encoded data removed]"
          },
          "metadata": {}
        }
      ],
      "source": [
        "#utility function to plot POS sequence frequencies in neologism data using pandas DataFrame.plot\n",
        "def plot_neo_tags(neo_tag_counts):\n",
        "    \n",
        "    sorted_tags = sorted(neo_tag_counts, key=neo_tag_counts.get, reverse=True)[:20]\n",
        "    neo_pos_df = pd.DataFrame.from_dict([{tag:neo_tag_counts[tag] for tag in sorted_tags}])\n",
        "    neo_pos_df.plot.bar()\n",
        "    plt.legend(loc='center left', bbox_to_anchor=(1.0, 0.5))\n",
        "    plt.xlabel('Top 20 POS Neologism Combos')\n",
        "    plt.ylabel('Counts')\n",
        "    plt.xticks([])\n",
        "    plt.show()\n",
        "    \n",
        "\n",
        "plot_neo_tags(neo_tag_counts)"
      ]
    },
    {
      "cell_type": "markdown",
      "metadata": {
        "id": "llck-BuEDQcu"
      },
      "source": [
        "## Neologism Generation \n",
        "\n",
        "Hopefully we can see from this output how we might conjure a crude approximation to Joyce's neologism creation techniques. We'll simply pick a random neologism POS sequence, randomly select 2 words from the english_list until we match our tags, smush the words together, and viola! We're literary geniuses!"
      ]
    },
    {
      "cell_type": "code",
      "execution_count": 80,
      "metadata": {
        "id": "MnPIzdhLDQcu"
      },
      "outputs": [],
      "source": [
        "def generate_neologism(neo_tags, eng_words):\n",
        "    \n",
        "    eng_words = [w for w in eng_words if len(w) > 3]    \n",
        "    r_neo = randrange(len(neo_tags.keys()))\n",
        "    neo = list(neo_tags.keys())[r_neo]\n",
        "    r_neo_tags = neo_tags[list(neo_tags.keys())[r_neo]]\n",
        "    while r_neo_tags[0] == 'None':                     \n",
        "        r_neo = randrange(len(neo_tags.keys()))\n",
        "        neo = list(neo_tags.keys())[r_neo]\n",
        "        r_neo_tags = neo_tags[list(neo_tags.keys())[r_neo]]\n",
        " \n",
        "    gen_neo = []\n",
        "    \n",
        "    print(f'Random neologism: {neo}, tag_seq: {r_neo_tags}')\n",
        "    \n",
        "    for tag in r_neo_tags:\n",
        "        r_eng = randrange(len(eng_words))\n",
        "        r_eng_tag = [tag for (word, tag) in nltk.pos_tag(eng_words[r_eng].split())][0]\n",
        "        while(r_eng_tag != tag or eng_words[r_eng][0].isupper()):\n",
        "            r_eng = randrange(len(eng_words))\n",
        "            r_eng_tag = [tag for (word, tag) in nltk.pos_tag(eng_words[r_eng].split())][0]\n",
        "        gen_neo.append(eng_words[r_eng])\n",
        "    \n",
        "    return ''.join(gen_neo)\n",
        "\n"
      ]
    },
    {
      "cell_type": "code",
      "source": [
        "import json\n",
        "\n",
        "\n",
        "TAG_PATH = 'neo_tags.json'\n",
        "WORD_PATH = \"english_words.txt\"\n",
        "\n",
        "def save_neo_tags_and_words():\n",
        "  with open(TAG_PATH, 'w') as f:\n",
        "    json.dump(neo_tags, f)\n",
        "\n",
        "  with open(WORD_PATH, 'w') as f:\n",
        "    for word in list(english_words):\n",
        "      f.write(f\"{word}\\n\")\n",
        "\n",
        "\n",
        "def load_neo_tags_and_words():\n",
        "  with open(TAG_PATH, 'r') as f:\n",
        "    neo_tags = json.load(f)\n",
        "\n",
        "  with open(WORD_PATH, 'r') as f:\n",
        "    english_words = [line.strip(' \\n') for line in f.readlines()]\n",
        "  \n",
        "  return neo_tags, english_words\n",
        "\n"
      ],
      "metadata": {
        "id": "oEY9jvd3v4lV"
      },
      "execution_count": 73,
      "outputs": []
    },
    {
      "cell_type": "code",
      "execution_count": 81,
      "metadata": {
        "id": "NY7IhJBQDQcu",
        "outputId": "69113cbb-4c94-487a-9c77-d611ae1322dc",
        "colab": {
          "base_uri": "https://localhost:8080/",
          "height": 54
        }
      },
      "outputs": [
        {
          "output_type": "stream",
          "name": "stdout",
          "text": [
            "Random neologism: lemonjuice, tag_seq: ['NN', 'NN']\n"
          ]
        },
        {
          "output_type": "execute_result",
          "data": {
            "text/plain": [
              "'alligatorunneighborliness'"
            ],
            "application/vnd.google.colaboratory.intrinsic+json": {
              "type": "string"
            }
          },
          "metadata": {},
          "execution_count": 81
        }
      ],
      "source": [
        "generate_neologism(neo_tags, english_words)"
      ]
    },
    {
      "cell_type": "code",
      "source": [
        "neo_tags, english_words = load_neo_tags_and_words()"
      ],
      "metadata": {
        "id": "8mb5MSmmySlO"
      },
      "execution_count": 74,
      "outputs": []
    },
    {
      "cell_type": "code",
      "source": [
        "list(english_words)[:10]"
      ],
      "metadata": {
        "id": "TMyXzavcw16x",
        "outputId": "38059aa2-f0b7-4fc2-da2c-1fe539e1fbfb",
        "colab": {
          "base_uri": "https://localhost:8080/"
        }
      },
      "execution_count": 75,
      "outputs": [
        {
          "output_type": "execute_result",
          "data": {
            "text/plain": [
              "['Cortaderia',\n",
              " 'invalidism',\n",
              " 'buttonhole',\n",
              " 'platysmamyoides',\n",
              " 'sailship',\n",
              " 'understrap',\n",
              " 'irresponsibleness',\n",
              " 'Perugian',\n",
              " 'sulkiness',\n",
              " 'situational']"
            ]
          },
          "metadata": {},
          "execution_count": 75
        }
      ]
    },
    {
      "cell_type": "code",
      "source": [
        "#neo_tags"
      ],
      "metadata": {
        "id": "sO3_7HmXw_YO"
      },
      "execution_count": 77,
      "outputs": []
    },
    {
      "cell_type": "code",
      "source": [
        "generate_neologism(neo_tags, english_words)"
      ],
      "metadata": {
        "id": "F1a3nuHRw19W",
        "outputId": "1e963fcf-7b8c-488c-9399-bbb856e870c9",
        "colab": {
          "base_uri": "https://localhost:8080/",
          "height": 54
        }
      },
      "execution_count": 82,
      "outputs": [
        {
          "output_type": "stream",
          "name": "stdout",
          "text": [
            "Random neologism: charnelhouses, tag_seq: ['NN', 'NNS']\n"
          ]
        },
        {
          "output_type": "execute_result",
          "data": {
            "text/plain": [
              "'schmelzebowbells'"
            ],
            "application/vnd.google.colaboratory.intrinsic+json": {
              "type": "string"
            }
          },
          "metadata": {},
          "execution_count": 82
        }
      ]
    },
    {
      "cell_type": "markdown",
      "metadata": {
        "id": "7K_FiaveDQcu"
      },
      "source": [
        ">Well at the very least we learned that it takes more than a simple frequentest algorithm to write like Joyce!"
      ]
    }
  ],
  "metadata": {
    "kernelspec": {
      "display_name": "Python 3",
      "language": "python",
      "name": "python3"
    },
    "language_info": {
      "codemirror_mode": {
        "name": "ipython",
        "version": 3
      },
      "file_extension": ".py",
      "mimetype": "text/x-python",
      "name": "python",
      "nbconvert_exporter": "python",
      "pygments_lexer": "ipython3",
      "version": "3.6.0"
    },
    "colab": {
      "provenance": []
    }
  },
  "nbformat": 4,
  "nbformat_minor": 0
}